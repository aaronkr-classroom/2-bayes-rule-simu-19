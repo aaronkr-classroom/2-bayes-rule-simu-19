# Given probabilities
p_covid = 0.005
p_no_covid = 1 - p_covid
p_pos_with_covid = 0.95
p_neg_no_covid = 0.95
p_pos_no_covid = 1 - p_neg_no_covid 

# Step 1: Calculate P(positive)
p_positive = (p_pos_with_covid * p_covid) + \
             (p_pos_no_covid * p_no_covid)

# Step 2: Apply Bayes' Rule
p_covid_with_pos = (p_pos_with_covid * p_covid) / p_positive

# Output the result
p_covid_with_pos